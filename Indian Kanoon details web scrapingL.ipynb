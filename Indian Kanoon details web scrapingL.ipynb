{
 "cells": [
  {
   "cell_type": "code",
   "execution_count": 1,
   "id": "4e0bf446",
   "metadata": {},
   "outputs": [],
   "source": [
    "import requests\n",
    "from bs4 import BeautifulSoup\n",
    "from selenium import webdriver\n",
    "from selenium.webdriver.support.ui import Select\n",
    "from webdriver_manager.chrome import ChromeDriverManager\n",
    "from selenium.webdriver.common.service import Service\n",
    "from selenium.webdriver.common.by import By\n",
    "import chromedriver_autoinstaller\n",
    "import os\n",
    "from pathlib import Path\n",
    "import csv\n",
    "from csv import writer\n",
    "import pandas as pd\n",
    "from io import open"
   ]
  },
  {
   "cell_type": "code",
   "execution_count": 2,
   "id": "4996aa1d",
   "metadata": {},
   "outputs": [
    {
     "name": "stderr",
     "output_type": "stream",
     "text": [
      "\n",
      "\n",
      "====== WebDriver manager ======\n",
      "Current google-chrome version is 99.0.4844\n",
      "Get LATEST chromedriver version for 99.0.4844 google-chrome\n",
      "Driver [C:\\Users\\bikem\\.wdm\\drivers\\chromedriver\\win32\\99.0.4844.51\\chromedriver.exe] found in cache\n",
      "C:\\Users\\bikem\\AppData\\Local\\Temp/ipykernel_640/2759058704.py:12: DeprecationWarning: executable_path has been deprecated, please pass in a Service object\n",
      "  driver = webdriver.Chrome(ChromeDriverManager().install())\n"
     ]
    }
   ],
   "source": [
    "def get_url(search_term):\n",
    "    '''\n",
    "    This function fetches the URL of the item that you want to search\n",
    "    '''\n",
    "    base_url = \"https://indiankanoon.org/\"\n",
    "    template = 'https://indiankanoon.org/browse/supremecourt/{}/'\n",
    "       \n",
    "    # add term query to url\n",
    "    url = template.format(search_term)\n",
    "    return url\n",
    "\n",
    "driver = webdriver.Chrome(ChromeDriverManager().install())\n",
    "\n",
    "def get_inner_link(search_term):\n",
    "    page = []\n",
    "    url = get_url(search_term)\n",
    "    driver.get(url.format(page))\n",
    "    base_url = \"https://indiankanoon.org\"\n",
    "    soup = BeautifulSoup(driver.page_source, 'html.parser')\n",
    "    result = soup.find('div', {'class':'info_indian_kanoon'})\n",
    "    link = [base_url + td.a['href'] for td in result.table.find_all('td')]\n",
    "    return link\n",
    "\n",
    "def sorting(search_term, month):\n",
    "    links = get_inner_link(search_term)\n",
    "    inner_link = links[month]\n",
    "    url1 = inner_link\n",
    "    driver.get(url1)\n",
    "    element_dropdown = driver.find_element_by_id('sortbySelect')\n",
    "    select = Select(element_dropdown)\n",
    "    select.select_by_visible_text('Most Recent')\n",
    "    link1 = url1 + '+sortby%3Amostrecent'\n",
    "    return link1\n",
    "\n",
    "def most_recent_record(search_term, month):\n",
    "    link2 = sorting(search_term, month)\n",
    "    page = []\n",
    "    driver.get(link2.format(page))\n",
    "    base_url = \"https://indiankanoon.org\"\n",
    "    soup = BeautifulSoup(driver.page_source, 'html.parser')\n",
    "    result = soup.findAll('div', class_ = 'result')\n",
    "    link2 = [base_url + div.a['href'] for div in result]\n",
    "    return link2\n",
    "\n",
    "def main_url(search_term, month):\n",
    "    link3 = most_recent_record(search_term, month)\n",
    "    link3 = link3[0]\n",
    "    page = []\n",
    "    driver.get(link3.format(page))\n",
    "    url_main = link3\n",
    "    return url_main"
   ]
  },
  {
   "cell_type": "code",
   "execution_count": 3,
   "id": "c914572e",
   "metadata": {},
   "outputs": [
    {
     "name": "stderr",
     "output_type": "stream",
     "text": [
      "C:\\Users\\bikem\\AppData\\Local\\Temp/ipykernel_640/2759058704.py:29: DeprecationWarning: find_element_by_* commands are deprecated. Please use find_element() instead\n",
      "  element_dropdown = driver.find_element_by_id('sortbySelect')\n",
      "C:\\Users\\bikem\\AppData\\Local\\Temp/ipykernel_640/67763950.py:15: DeprecationWarning: use options instead of chrome_options\n",
      "  driver = webdriver.Chrome(chrome_options=chromeOptions)\n"
     ]
    }
   ],
   "source": [
    "url = main_url(2022, 2)\n",
    "chromedriver_autoinstaller.install()\n",
    "downloadDir = f\"{os.getcwd()}\\\\documents\\\\\"\n",
    "# Make sure path exists.\n",
    "Path(downloadDir).mkdir(parents=True, exist_ok=True)\n",
    "\n",
    "# Set Preferences.\n",
    "preferences = {\"download.default_directory\": downloadDir,\n",
    "                # \"download.prompt_for_download\": False,\n",
    "                # \"directory_upgrade\": True,\n",
    "                # \"safebrowsing.enabled\": True\n",
    "                }\n",
    "chromeOptions = webdriver.ChromeOptions()\n",
    "chromeOptions.add_experimental_option(\"prefs\", preferences)\n",
    "driver = webdriver.Chrome(chrome_options=chromeOptions)\n",
    "driver.get(url)\n",
    "downloadButtonXpath=\"//input[@value='Get this document in PDF']\"\n",
    "driver.find_element(by=By.XPATH,value=downloadButtonXpath).click()"
   ]
  }
 ],
 "metadata": {
  "kernelspec": {
   "display_name": "Python 3 (ipykernel)",
   "language": "python",
   "name": "python3"
  },
  "language_info": {
   "codemirror_mode": {
    "name": "ipython",
    "version": 3
   },
   "file_extension": ".py",
   "mimetype": "text/x-python",
   "name": "python",
   "nbconvert_exporter": "python",
   "pygments_lexer": "ipython3",
   "version": "3.8.12"
  }
 },
 "nbformat": 4,
 "nbformat_minor": 5
}
