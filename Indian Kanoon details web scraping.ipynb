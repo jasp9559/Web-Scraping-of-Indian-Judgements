{
 "cells": [
  {
   "cell_type": "code",
   "execution_count": 1,
   "id": "4e0bf446",
   "metadata": {},
   "outputs": [],
   "source": [
    "import requests\n",
    "from bs4 import BeautifulSoup\n",
    "from selenium import webdriver\n",
    "from selenium.webdriver.support.ui import Select\n",
    "from webdriver_manager.chrome import ChromeDriverManager\n",
    "import csv\n",
    "from csv import writer\n",
    "import pandas as pd"
   ]
  },
  {
   "cell_type": "code",
   "execution_count": 12,
   "id": "4996aa1d",
   "metadata": {},
   "outputs": [
    {
     "name": "stderr",
     "output_type": "stream",
     "text": [
      "\n",
      "\n",
      "====== WebDriver manager ======\n",
      "Current google-chrome version is 99.0.4844\n",
      "Get LATEST chromedriver version for 99.0.4844 google-chrome\n",
      "Driver [C:\\Users\\bikem\\.wdm\\drivers\\chromedriver\\win32\\99.0.4844.51\\chromedriver.exe] found in cache\n",
      "C:\\Users\\bikem\\AppData\\Local\\Temp/ipykernel_13164/2250907137.py:12: DeprecationWarning: executable_path has been deprecated, please pass in a Service object\n",
      "  driver = webdriver.Chrome(ChromeDriverManager().install())\n"
     ]
    }
   ],
   "source": [
    "def get_url(search_term):\n",
    "    '''\n",
    "    This function fetches the URL of the item that you want to search\n",
    "    '''\n",
    "    base_url = \"https://indiankanoon.org/\"\n",
    "    template = 'https://indiankanoon.org/browse/supremecourt/{}/'\n",
    "       \n",
    "    # add term query to url\n",
    "    url = template.format(search_term)\n",
    "    return url\n",
    "\n",
    "driver = webdriver.Chrome(ChromeDriverManager().install())\n",
    "\n",
    "def get_inner_link(search_term):\n",
    "    page = []\n",
    "    url = get_url(search_term)\n",
    "    driver = webdriver.Chrome(ChromeDriverManager().install())\n",
    "    driver.get(url.format(page))\n",
    "    base_url = \"https://indiankanoon.org\"\n",
    "    soup = BeautifulSoup(driver.page_source, 'html.parser')\n",
    "    result = soup.find('div', {'class':'info_indian_kanoon'})\n",
    "    link = [base_url + td.a['href'] for td in result.table.find_all('td')]\n",
    "    return link\n",
    "\n",
    "def sorting(search_term, month):\n",
    "    links = get_inner_link(search_term)\n",
    "    inner_link = links[month]\n",
    "    url1 = inner_link\n",
    "    browser = webdriver.Chrome(ChromeDriverManager().install())\n",
    "    browser.get(url1)\n",
    "    element_dropdown = browser.find_element_by_id('sortbySelect')\n",
    "    select = Select(element_dropdown)\n",
    "    select.select_by_visible_text('Most Recent')\n",
    "    link1 = url1 + '+sortby%3Amostrecent'\n",
    "    return link1\n",
    "\n",
    "def most_recent_record(search_term, month):\n",
    "    link2 = sorting(search_term, month)\n",
    "    page = []\n",
    "    driver1 = webdriver.Chrome(ChromeDriverManager().install())\n",
    "    driver1.get(link2.format(page))\n",
    "    base_url = \"https://indiankanoon.org\"\n",
    "    soup = BeautifulSoup(driver1.page_source, 'html.parser')\n",
    "    result = soup.findAll('div', class_ = 'result')\n",
    "    link2 = [base_url + div.a['href'] for div in result]\n",
    "    return link2\n",
    "\n",
    "def main(search_term, month):\n",
    "    link3 = most_recent_record(search_term, month)\n",
    "    link3 = link3[0]\n",
    "    page = []\n",
    "    driver_main = webdriver.Chrome(ChromeDriverManager().install())\n",
    "    driver_main.get(link3.format(page))\n",
    "    base_url = \"https://indiankanoon.org\"\n",
    "    soup = BeautifulSoup(driver.page_source, 'html.parser')\n",
    "    result = soup.findAll('div', class_ = 'docoptions')\n",
    "    \n",
    "    driver_main.find_element_by_class_name('docoptions').click()"
   ]
  },
  {
   "cell_type": "code",
   "execution_count": 10,
   "id": "4c1d08bd",
   "metadata": {},
   "outputs": [
    {
     "name": "stderr",
     "output_type": "stream",
     "text": [
      "\n",
      "\n",
      "====== WebDriver manager ======\n",
      "Current google-chrome version is 99.0.4844\n",
      "Get LATEST chromedriver version for 99.0.4844 google-chrome\n",
      "Driver [C:\\Users\\bikem\\.wdm\\drivers\\chromedriver\\win32\\99.0.4844.51\\chromedriver.exe] found in cache\n",
      "C:\\Users\\bikem\\AppData\\Local\\Temp/ipykernel_13164/560343814.py:15: DeprecationWarning: executable_path has been deprecated, please pass in a Service object\n",
      "  driver = webdriver.Chrome(ChromeDriverManager().install())\n",
      "\n",
      "\n",
      "====== WebDriver manager ======\n",
      "Current google-chrome version is 99.0.4844\n",
      "Get LATEST chromedriver version for 99.0.4844 google-chrome\n",
      "Driver [C:\\Users\\bikem\\.wdm\\drivers\\chromedriver\\win32\\99.0.4844.51\\chromedriver.exe] found in cache\n",
      "C:\\Users\\bikem\\AppData\\Local\\Temp/ipykernel_13164/560343814.py:27: DeprecationWarning: executable_path has been deprecated, please pass in a Service object\n",
      "  browser = webdriver.Chrome(ChromeDriverManager().install())\n",
      "C:\\Users\\bikem\\AppData\\Local\\Temp/ipykernel_13164/560343814.py:29: DeprecationWarning: find_element_by_* commands are deprecated. Please use find_element() instead\n",
      "  element_dropdown = browser.find_element_by_id('sortbySelect')\n",
      "\n",
      "\n",
      "====== WebDriver manager ======\n",
      "Current google-chrome version is 99.0.4844\n",
      "Get LATEST chromedriver version for 99.0.4844 google-chrome\n",
      "Driver [C:\\Users\\bikem\\.wdm\\drivers\\chromedriver\\win32\\99.0.4844.51\\chromedriver.exe] found in cache\n",
      "C:\\Users\\bikem\\AppData\\Local\\Temp/ipykernel_13164/560343814.py:38: DeprecationWarning: executable_path has been deprecated, please pass in a Service object\n",
      "  driver1 = webdriver.Chrome(ChromeDriverManager().install())\n"
     ]
    }
   ],
   "source": [
    "link_final = most_recent_record(2002, 3)"
   ]
  },
  {
   "cell_type": "code",
   "execution_count": 11,
   "id": "e0f9eac5",
   "metadata": {},
   "outputs": [
    {
     "data": {
      "text/plain": [
       "'https://indiankanoon.org/docfragment/27901/?formInput=doctypes%3A%20supremecourt%20fromdate%3A%201-4-2002%20todate%3A%2030-4-2002%20sortby%3A%20mostrecent'"
      ]
     },
     "execution_count": 11,
     "metadata": {},
     "output_type": "execute_result"
    }
   ],
   "source": [
    "link_final[0]"
   ]
  },
  {
   "cell_type": "code",
   "execution_count": 13,
   "id": "1e41b7e9",
   "metadata": {},
   "outputs": [
    {
     "name": "stderr",
     "output_type": "stream",
     "text": [
      "\n",
      "\n",
      "====== WebDriver manager ======\n",
      "Current google-chrome version is 99.0.4844\n",
      "Get LATEST chromedriver version for 99.0.4844 google-chrome\n",
      "Driver [C:\\Users\\bikem\\.wdm\\drivers\\chromedriver\\win32\\99.0.4844.51\\chromedriver.exe] found in cache\n",
      "C:\\Users\\bikem\\AppData\\Local\\Temp/ipykernel_13164/2250907137.py:17: DeprecationWarning: executable_path has been deprecated, please pass in a Service object\n",
      "  driver = webdriver.Chrome(ChromeDriverManager().install())\n",
      "\n",
      "\n",
      "====== WebDriver manager ======\n",
      "Current google-chrome version is 99.0.4844\n",
      "Get LATEST chromedriver version for 99.0.4844 google-chrome\n",
      "Driver [C:\\Users\\bikem\\.wdm\\drivers\\chromedriver\\win32\\99.0.4844.51\\chromedriver.exe] found in cache\n",
      "C:\\Users\\bikem\\AppData\\Local\\Temp/ipykernel_13164/2250907137.py:29: DeprecationWarning: executable_path has been deprecated, please pass in a Service object\n",
      "  browser = webdriver.Chrome(ChromeDriverManager().install())\n",
      "C:\\Users\\bikem\\AppData\\Local\\Temp/ipykernel_13164/2250907137.py:31: DeprecationWarning: find_element_by_* commands are deprecated. Please use find_element() instead\n",
      "  element_dropdown = browser.find_element_by_id('sortbySelect')\n",
      "\n",
      "\n",
      "====== WebDriver manager ======\n",
      "Current google-chrome version is 99.0.4844\n",
      "Get LATEST chromedriver version for 99.0.4844 google-chrome\n",
      "Driver [C:\\Users\\bikem\\.wdm\\drivers\\chromedriver\\win32\\99.0.4844.51\\chromedriver.exe] found in cache\n",
      "C:\\Users\\bikem\\AppData\\Local\\Temp/ipykernel_13164/2250907137.py:40: DeprecationWarning: executable_path has been deprecated, please pass in a Service object\n",
      "  driver1 = webdriver.Chrome(ChromeDriverManager().install())\n",
      "\n",
      "\n",
      "====== WebDriver manager ======\n",
      "Current google-chrome version is 99.0.4844\n",
      "Get LATEST chromedriver version for 99.0.4844 google-chrome\n",
      "Driver [C:\\Users\\bikem\\.wdm\\drivers\\chromedriver\\win32\\99.0.4844.51\\chromedriver.exe] found in cache\n",
      "C:\\Users\\bikem\\AppData\\Local\\Temp/ipykernel_13164/2250907137.py:52: DeprecationWarning: executable_path has been deprecated, please pass in a Service object\n",
      "  driver_main = webdriver.Chrome(ChromeDriverManager().install())\n",
      "C:\\Users\\bikem\\AppData\\Local\\Temp/ipykernel_13164/2250907137.py:57: DeprecationWarning: find_element_by_* commands are deprecated. Please use find_element() instead\n",
      "  driver_main.find_element_by_class_name('docoptions').click()\n"
     ]
    }
   ],
   "source": [
    "click = main(2022, 2)\n"
   ]
  },
  {
   "cell_type": "code",
   "execution_count": null,
   "id": "8858e842",
   "metadata": {},
   "outputs": [],
   "source": []
  },
  {
   "cell_type": "code",
   "execution_count": null,
   "id": "d89a01b5",
   "metadata": {},
   "outputs": [],
   "source": []
  }
 ],
 "metadata": {
  "kernelspec": {
   "display_name": "Python 3 (ipykernel)",
   "language": "python",
   "name": "python3"
  },
  "language_info": {
   "codemirror_mode": {
    "name": "ipython",
    "version": 3
   },
   "file_extension": ".py",
   "mimetype": "text/x-python",
   "name": "python",
   "nbconvert_exporter": "python",
   "pygments_lexer": "ipython3",
   "version": "3.8.12"
  }
 },
 "nbformat": 4,
 "nbformat_minor": 5
}
